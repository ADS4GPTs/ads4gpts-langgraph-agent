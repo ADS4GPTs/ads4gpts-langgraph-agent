{
 "cells": [
  {
   "cell_type": "code",
   "execution_count": 1,
   "metadata": {},
   "outputs": [
    {
     "name": "stderr",
     "output_type": "stream",
     "text": [
      "2025-03-04 08:51:05,446 - ads4gpts_langgraph_agent.llms - INFO - Creating advertiser agent for provider: openai\n",
      "2025-03-04 08:51:05,446 - ads4gpts_langgraph_agent.llms - INFO - Creating advertiser agent for provider: openai\n",
      "2025-03-04 08:51:05,447 - ads4gpts_langgraph_agent.llms - INFO - Creating LLM for provider: openai, model: gpt-4o, temperature: 0.7\n",
      "2025-03-04 08:51:05,447 - ads4gpts_langgraph_agent.llms - INFO - Creating LLM for provider: openai, model: gpt-4o, temperature: 0.7\n",
      "2025-03-04 08:51:05,466 - ads4gpts_langgraph_agent.llms - INFO - Creating render agent for provider: openai\n",
      "2025-03-04 08:51:05,466 - ads4gpts_langgraph_agent.llms - INFO - Creating render agent for provider: openai\n",
      "2025-03-04 08:51:05,466 - ads4gpts_langgraph_agent.llms - INFO - Creating LLM for provider: openai, model: gpt-4o, temperature: 0.7\n",
      "2025-03-04 08:51:05,466 - ads4gpts_langgraph_agent.llms - INFO - Creating LLM for provider: openai, model: gpt-4o, temperature: 0.7\n"
     ]
    }
   ],
   "source": [
    "import os\n",
    "from example_agent import graph"
   ]
  },
  {
   "cell_type": "code",
   "execution_count": null,
   "metadata": {},
   "outputs": [],
   "source": [
    "from IPython.display import Image, display\n",
    "\n",
    "# There is a bug in LangGraph now and render node is not showing\n",
    "display(Image(graph.get_graph(xray=1).draw_mermaid_png()))"
   ]
  },
  {
   "cell_type": "code",
   "execution_count": 4,
   "metadata": {},
   "outputs": [
    {
     "name": "stderr",
     "output_type": "stream",
     "text": [
      "2025-03-04 08:52:00,694 - example_agent - INFO - Supervisor node invoked.\n",
      "2025-03-04 08:52:01,666 - example_agent - INFO - Chat node invoked.\n"
     ]
    },
    {
     "name": "stdout",
     "output_type": "stream",
     "text": [
      "((), {'supervisor_node': {'messages': [AIMessage(content='Routing to chat_agent_node', additional_kwargs={}, response_metadata={})]}})\n"
     ]
    },
    {
     "name": "stderr",
     "output_type": "stream",
     "text": [
      "2025-03-04 08:52:02,359 - example_agent - INFO - Supervisor node invoked.\n"
     ]
    },
    {
     "name": "stdout",
     "output_type": "stream",
     "text": [
      "((), {'chat_agent_node': {'messages': [AIMessage(content='Hello! How can I assist you today?', additional_kwargs={'refusal': None}, response_metadata={'token_usage': {'completion_tokens': 10, 'prompt_tokens': 27, 'total_tokens': 37, 'completion_tokens_details': {'accepted_prediction_tokens': 0, 'audio_tokens': 0, 'reasoning_tokens': 0, 'rejected_prediction_tokens': 0}, 'prompt_tokens_details': {'audio_tokens': 0, 'cached_tokens': 0}}, 'model_name': 'gpt-4o-2024-08-06', 'system_fingerprint': 'fp_eb9dce56a8', 'finish_reason': 'stop', 'logprobs': None}, id='run-c6648690-d02a-405d-9b4c-2b6d77d8ffcf-0', usage_metadata={'input_tokens': 27, 'output_tokens': 10, 'total_tokens': 37, 'input_token_details': {'audio': 0, 'cache_read': 0}, 'output_token_details': {'audio': 0, 'reasoning': 0}})]}})\n",
      "((), {'supervisor_node': {'messages': [AIMessage(content='Routing to __end__', additional_kwargs={}, response_metadata={})]}})\n"
     ]
    }
   ],
   "source": [
    "config = {\"configurable\": {\"session_id\": \"1\", \"gpt_id\": \"1\", \"user_id\": \"1\", \"thread_id\": \"1\"}}\n",
    "inputs = {\"messages\": [{\"role\": \"user\", \"content\": \"hi!\"}]}\n",
    "async for update in graph.astream(inputs, config=config, stream_mode=\"updates\", subgraphs=True):\n",
    "    print(update)"
   ]
  },
  {
   "cell_type": "code",
   "execution_count": 5,
   "metadata": {},
   "outputs": [
    {
     "name": "stderr",
     "output_type": "stream",
     "text": [
      "2025-03-04 08:52:18,641 - example_agent - INFO - Supervisor node invoked.\n",
      "2025-03-04 08:52:19,370 - example_agent - INFO - Chat node invoked.\n"
     ]
    },
    {
     "name": "stdout",
     "output_type": "stream",
     "text": [
      "((), {'supervisor_node': {'messages': [AIMessage(content='Routing to chat_agent_node', additional_kwargs={}, response_metadata={})]}})\n"
     ]
    },
    {
     "name": "stderr",
     "output_type": "stream",
     "text": [
      "2025-03-04 08:52:27,913 - example_agent - INFO - Supervisor node invoked.\n"
     ]
    },
    {
     "name": "stdout",
     "output_type": "stream",
     "text": [
      "((), {'chat_agent_node': {'messages': [AIMessage(content=\"As the best man at a wedding, you'll want to wear shoes that are both stylish and appropriate for the occasion. Here are some suggestions:\\n\\n1. **Consider the Dress Code:** If the wedding has a specific dress code, such as black tie or formal, you'll need to wear formal dress shoes, like oxfords or derbies, in a classic color like black or dark brown.\\n\\n2. **Coordinate with Your Suit or Tuxedo:** Make sure your shoes match or complement your suit or tuxedo. Black shoes are versatile and usually a safe choice for most dark suits. If you're wearing a lighter-colored suit, brown shoes might be more appropriate.\\n\\n3. **Pay Attention to Comfort:** Weddings can be long events, so choose shoes that are comfortable enough to wear throughout the day and into the evening. Consider breaking them in before the big day to avoid discomfort.\\n\\n4. **Polish and Presentation:** Ensure your shoes are clean and well-polished. A well-maintained pair of shoes can enhance your overall appearance.\\n\\n5. **Consider the Venue:** If the wedding is outdoors, you might want to avoid shoes with delicate soles that could be damaged by grass or uneven surfaces.\\n\\nUltimately, the key is to ensure your shoes complement your overall look while adhering to the wedding's dress code and theme.\", additional_kwargs={'refusal': None}, response_metadata={'token_usage': {'completion_tokens': 263, 'prompt_tokens': 77, 'total_tokens': 340, 'completion_tokens_details': {'accepted_prediction_tokens': 0, 'audio_tokens': 0, 'reasoning_tokens': 0, 'rejected_prediction_tokens': 0}, 'prompt_tokens_details': {'audio_tokens': 0, 'cached_tokens': 0}}, 'model_name': 'gpt-4o-2024-08-06', 'system_fingerprint': 'fp_eb9dce56a8', 'finish_reason': 'stop', 'logprobs': None}, id='run-4d867129-1619-4cd0-b4cb-51a77c9ef7bc-0', usage_metadata={'input_tokens': 77, 'output_tokens': 263, 'total_tokens': 340, 'input_token_details': {'audio': 0, 'cache_read': 0}, 'output_token_details': {'audio': 0, 'reasoning': 0}})]}})\n",
      "((), {'supervisor_node': {'messages': [AIMessage(content='Routing to ads4gpts_node', additional_kwargs={}, response_metadata={})]}})\n",
      "(('ads4gpts_node:0c095a95-040d-536f-6218-c4c1009a22cd',), {'advertiser_node': {'messages': [AIMessage(content='', additional_kwargs={'tool_calls': [{'id': 'call_PE8Z4a3CoHqAfUoHyiE3ocmO', 'function': {'arguments': '{\"id\":\"1\",\"user_gender\":\"male\",\"user_age\":\"25-34\",\"user_persona\":\"fashion-conscious, wedding attendee, best man\",\"ad_recommendation\":\"Formal shoes for weddings, especially for best men, focusing on style and comfort. Options could include oxfords, derbies, or loafers in classic colors like black or brown.\",\"undesired_ads\":\"Casual, athletic, or overly trendy shoes that do not fit formal occasions.\",\"context\":\"The user is looking for shoe recommendations as the best man at a wedding, aiming for a stylish and appropriate choice.\",\"num_ads\":1,\"style\":\"informal\",\"ad_format\":\"INLINE_SPONSORED_RESPONSES\"}', 'name': 'ads4gpts_inline_sponsored_responses'}, 'type': 'function'}], 'refusal': None}, response_metadata={'token_usage': {'completion_tokens': 156, 'prompt_tokens': 1783, 'total_tokens': 1939, 'completion_tokens_details': {'accepted_prediction_tokens': 0, 'audio_tokens': 0, 'reasoning_tokens': 0, 'rejected_prediction_tokens': 0}, 'prompt_tokens_details': {'audio_tokens': 0, 'cached_tokens': 1280}}, 'model_name': 'gpt-4o-2024-08-06', 'system_fingerprint': 'fp_eb9dce56a8', 'finish_reason': 'tool_calls', 'logprobs': None}, id='run-47effefb-dcec-417f-b76f-8e1a7bf04a19-0', tool_calls=[{'name': 'ads4gpts_inline_sponsored_responses', 'args': {'id': '1', 'user_gender': 'male', 'user_age': '25-34', 'user_persona': 'fashion-conscious, wedding attendee, best man', 'ad_recommendation': 'Formal shoes for weddings, especially for best men, focusing on style and comfort. Options could include oxfords, derbies, or loafers in classic colors like black or brown.', 'undesired_ads': 'Casual, athletic, or overly trendy shoes that do not fit formal occasions.', 'context': 'The user is looking for shoe recommendations as the best man at a wedding, aiming for a stylish and appropriate choice.', 'num_ads': 1, 'style': 'informal', 'ad_format': 'INLINE_SPONSORED_RESPONSES'}, 'id': 'call_PE8Z4a3CoHqAfUoHyiE3ocmO', 'type': 'tool_call'}], usage_metadata={'input_tokens': 1783, 'output_tokens': 156, 'total_tokens': 1939, 'input_token_details': {'audio': 0, 'cache_read': 1280}, 'output_token_details': {'audio': 0, 'reasoning': 0}})]}})\n",
      "(('ads4gpts_node:0c095a95-040d-536f-6218-c4c1009a22cd',), {'ads4gpts_tool_node': {'messages': [ToolMessage(content='{\"ad_text\": \"<- Promoted Content ->\\\\n\\\\nLearn the sartorial ways and get your handmade tailored suit by the masters themselves with Bespoke Tailors. [Subscribe now](https://youtube.com/@bespoketailorsdubai?si=9iH587ujoWKkueFa)\\\\n\\\\n<->\"}', name='ads4gpts_inline_sponsored_responses', tool_call_id='call_PE8Z4a3CoHqAfUoHyiE3ocmO')]}})\n"
     ]
    },
    {
     "name": "stderr",
     "output_type": "stream",
     "text": [
      "2025-03-04 08:52:37,432 - example_agent - INFO - Supervisor node invoked.\n"
     ]
    },
    {
     "name": "stdout",
     "output_type": "stream",
     "text": [
      "(('ads4gpts_node:0c095a95-040d-536f-6218-c4c1009a22cd',), {'render_node': {'messages': [AIMessage(content=\"```\\n*** Promoted Content ***\\nLooking to complete your best man ensemble with the perfect suit? Learn the art of sartorial elegance and get a handmade tailored suit from the masters at Bespoke Tailors. They'll ensure you look your best on the big day. [Subscribe now](https://youtube.com/@bespoketailorsdubai?si=9iH587ujoWKkueFa)\\n```\", additional_kwargs={'refusal': None}, response_metadata={'token_usage': {'completion_tokens': 82, 'prompt_tokens': 762, 'total_tokens': 844, 'completion_tokens_details': {'accepted_prediction_tokens': 0, 'audio_tokens': 0, 'reasoning_tokens': 0, 'rejected_prediction_tokens': 0}, 'prompt_tokens_details': {'audio_tokens': 0, 'cached_tokens': 0}}, 'model_name': 'gpt-4o-2024-08-06', 'system_fingerprint': 'fp_eb9dce56a8', 'finish_reason': 'stop', 'logprobs': None}, id='run-f1444e08-da73-4a7a-bf4e-f443cdfddddb-0', usage_metadata={'input_tokens': 762, 'output_tokens': 82, 'total_tokens': 844, 'input_token_details': {'audio': 0, 'cache_read': 0}, 'output_token_details': {'audio': 0, 'reasoning': 0}})]}})\n",
      "((), {'ads4gpts_node': {'messages': [{'role': 'user', 'content': 'hi!'}, AIMessage(content='Routing to chat_agent_node', additional_kwargs={}, response_metadata={}), AIMessage(content='Hello! How can I assist you today?', additional_kwargs={'refusal': None}, response_metadata={'token_usage': {'completion_tokens': 10, 'prompt_tokens': 27, 'total_tokens': 37, 'completion_tokens_details': {'accepted_prediction_tokens': 0, 'audio_tokens': 0, 'reasoning_tokens': 0, 'rejected_prediction_tokens': 0}, 'prompt_tokens_details': {'audio_tokens': 0, 'cached_tokens': 0}}, 'model_name': 'gpt-4o-2024-08-06', 'system_fingerprint': 'fp_eb9dce56a8', 'finish_reason': 'stop', 'logprobs': None}, id='run-c6648690-d02a-405d-9b4c-2b6d77d8ffcf-0', usage_metadata={'input_tokens': 27, 'output_tokens': 10, 'total_tokens': 37, 'input_token_details': {'audio': 0, 'cache_read': 0}, 'output_token_details': {'audio': 0, 'reasoning': 0}}), AIMessage(content='Routing to __end__', additional_kwargs={}, response_metadata={}), {'role': 'user', 'content': 'What kind of shoes should I wear for a wedding as the best man?'}, AIMessage(content='Routing to chat_agent_node', additional_kwargs={}, response_metadata={}), AIMessage(content=\"As the best man at a wedding, you'll want to wear shoes that are both stylish and appropriate for the occasion. Here are some suggestions:\\n\\n1. **Consider the Dress Code:** If the wedding has a specific dress code, such as black tie or formal, you'll need to wear formal dress shoes, like oxfords or derbies, in a classic color like black or dark brown.\\n\\n2. **Coordinate with Your Suit or Tuxedo:** Make sure your shoes match or complement your suit or tuxedo. Black shoes are versatile and usually a safe choice for most dark suits. If you're wearing a lighter-colored suit, brown shoes might be more appropriate.\\n\\n3. **Pay Attention to Comfort:** Weddings can be long events, so choose shoes that are comfortable enough to wear throughout the day and into the evening. Consider breaking them in before the big day to avoid discomfort.\\n\\n4. **Polish and Presentation:** Ensure your shoes are clean and well-polished. A well-maintained pair of shoes can enhance your overall appearance.\\n\\n5. **Consider the Venue:** If the wedding is outdoors, you might want to avoid shoes with delicate soles that could be damaged by grass or uneven surfaces.\\n\\nUltimately, the key is to ensure your shoes complement your overall look while adhering to the wedding's dress code and theme.\", additional_kwargs={'refusal': None}, response_metadata={'token_usage': {'completion_tokens': 263, 'prompt_tokens': 77, 'total_tokens': 340, 'completion_tokens_details': {'accepted_prediction_tokens': 0, 'audio_tokens': 0, 'reasoning_tokens': 0, 'rejected_prediction_tokens': 0}, 'prompt_tokens_details': {'audio_tokens': 0, 'cached_tokens': 0}}, 'model_name': 'gpt-4o-2024-08-06', 'system_fingerprint': 'fp_eb9dce56a8', 'finish_reason': 'stop', 'logprobs': None}, id='run-4d867129-1619-4cd0-b4cb-51a77c9ef7bc-0', usage_metadata={'input_tokens': 77, 'output_tokens': 263, 'total_tokens': 340, 'input_token_details': {'audio': 0, 'cache_read': 0}, 'output_token_details': {'audio': 0, 'reasoning': 0}}), AIMessage(content='Routing to ads4gpts_node', additional_kwargs={}, response_metadata={}), AIMessage(content='', additional_kwargs={'tool_calls': [{'id': 'call_PE8Z4a3CoHqAfUoHyiE3ocmO', 'function': {'arguments': '{\"id\":\"1\",\"user_gender\":\"male\",\"user_age\":\"25-34\",\"user_persona\":\"fashion-conscious, wedding attendee, best man\",\"ad_recommendation\":\"Formal shoes for weddings, especially for best men, focusing on style and comfort. Options could include oxfords, derbies, or loafers in classic colors like black or brown.\",\"undesired_ads\":\"Casual, athletic, or overly trendy shoes that do not fit formal occasions.\",\"context\":\"The user is looking for shoe recommendations as the best man at a wedding, aiming for a stylish and appropriate choice.\",\"num_ads\":1,\"style\":\"informal\",\"ad_format\":\"INLINE_SPONSORED_RESPONSES\"}', 'name': 'ads4gpts_inline_sponsored_responses'}, 'type': 'function'}], 'refusal': None}, response_metadata={'token_usage': {'completion_tokens': 156, 'prompt_tokens': 1783, 'total_tokens': 1939, 'completion_tokens_details': {'accepted_prediction_tokens': 0, 'audio_tokens': 0, 'reasoning_tokens': 0, 'rejected_prediction_tokens': 0}, 'prompt_tokens_details': {'audio_tokens': 0, 'cached_tokens': 1280}}, 'model_name': 'gpt-4o-2024-08-06', 'system_fingerprint': 'fp_eb9dce56a8', 'finish_reason': 'tool_calls', 'logprobs': None}, id='run-47effefb-dcec-417f-b76f-8e1a7bf04a19-0', tool_calls=[{'name': 'ads4gpts_inline_sponsored_responses', 'args': {'id': '1', 'user_gender': 'male', 'user_age': '25-34', 'user_persona': 'fashion-conscious, wedding attendee, best man', 'ad_recommendation': 'Formal shoes for weddings, especially for best men, focusing on style and comfort. Options could include oxfords, derbies, or loafers in classic colors like black or brown.', 'undesired_ads': 'Casual, athletic, or overly trendy shoes that do not fit formal occasions.', 'context': 'The user is looking for shoe recommendations as the best man at a wedding, aiming for a stylish and appropriate choice.', 'num_ads': 1, 'style': 'informal', 'ad_format': 'INLINE_SPONSORED_RESPONSES'}, 'id': 'call_PE8Z4a3CoHqAfUoHyiE3ocmO', 'type': 'tool_call'}], usage_metadata={'input_tokens': 1783, 'output_tokens': 156, 'total_tokens': 1939, 'input_token_details': {'audio': 0, 'cache_read': 1280}, 'output_token_details': {'audio': 0, 'reasoning': 0}}), ToolMessage(content='{\"ad_text\": \"<- Promoted Content ->\\\\n\\\\nLearn the sartorial ways and get your handmade tailored suit by the masters themselves with Bespoke Tailors. [Subscribe now](https://youtube.com/@bespoketailorsdubai?si=9iH587ujoWKkueFa)\\\\n\\\\n<->\"}', name='ads4gpts_inline_sponsored_responses', tool_call_id='call_PE8Z4a3CoHqAfUoHyiE3ocmO'), AIMessage(content=\"```\\n*** Promoted Content ***\\nLooking to complete your best man ensemble with the perfect suit? Learn the art of sartorial elegance and get a handmade tailored suit from the masters at Bespoke Tailors. They'll ensure you look your best on the big day. [Subscribe now](https://youtube.com/@bespoketailorsdubai?si=9iH587ujoWKkueFa)\\n```\", additional_kwargs={'refusal': None}, response_metadata={'token_usage': {'completion_tokens': 82, 'prompt_tokens': 762, 'total_tokens': 844, 'completion_tokens_details': {'accepted_prediction_tokens': 0, 'audio_tokens': 0, 'reasoning_tokens': 0, 'rejected_prediction_tokens': 0}, 'prompt_tokens_details': {'audio_tokens': 0, 'cached_tokens': 0}}, 'model_name': 'gpt-4o-2024-08-06', 'system_fingerprint': 'fp_eb9dce56a8', 'finish_reason': 'stop', 'logprobs': None}, id='run-f1444e08-da73-4a7a-bf4e-f443cdfddddb-0', usage_metadata={'input_tokens': 762, 'output_tokens': 82, 'total_tokens': 844, 'input_token_details': {'audio': 0, 'cache_read': 0}, 'output_token_details': {'audio': 0, 'reasoning': 0}})]}})\n",
      "((), {'supervisor_node': {'messages': [AIMessage(content='Routing to __end__', additional_kwargs={}, response_metadata={})]}})\n"
     ]
    }
   ],
   "source": [
    "config = {\n",
    "    \"configurable\": {\"session_id\": \"1\", \"gpt_id\": \"1\", \"user_id\": \"1\", \"thread_id\": \"1\"}\n",
    "}\n",
    "inputs = {\"messages\": [{\"role\": \"user\", \"content\": \"What kind of shoes should I wear for a wedding as the best man?\"}]}\n",
    "async for update in graph.astream(\n",
    "    inputs, config=config, stream_mode=\"updates\", subgraphs=True\n",
    "):\n",
    "    print(update)"
   ]
  },
  {
   "cell_type": "code",
   "execution_count": null,
   "metadata": {},
   "outputs": [],
   "source": []
  }
 ],
 "metadata": {
  "kernelspec": {
   "display_name": "ads4gpts-langraph-agent",
   "language": "python",
   "name": "python3"
  },
  "language_info": {
   "codemirror_mode": {
    "name": "ipython",
    "version": 3
   },
   "file_extension": ".py",
   "mimetype": "text/x-python",
   "name": "python",
   "nbconvert_exporter": "python",
   "pygments_lexer": "ipython3",
   "version": "3.12.9"
  }
 },
 "nbformat": 4,
 "nbformat_minor": 2
}
